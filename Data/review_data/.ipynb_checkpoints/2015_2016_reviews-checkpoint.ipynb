{
 "cells": [
  {
   "cell_type": "code",
   "execution_count": 12,
   "metadata": {},
   "outputs": [],
   "source": [
    "import pandas as pd\n",
    "import numpy as np"
   ]
  },
  {
   "cell_type": "code",
   "execution_count": 13,
   "metadata": {},
   "outputs": [],
   "source": [
    "def add_2015(df):\n",
    "    df['year'] = \"2015\"\n",
    "    return df\n",
    "\n",
    "def add_2016(df):\n",
    "    df['year'] = \"2016\"\n",
    "    return df"
   ]
  },
  {
   "cell_type": "code",
   "execution_count": 14,
   "metadata": {},
   "outputs": [],
   "source": [
    "jan_2015 = pd.read_csv('jan15.csv.gz')\n",
    "mar_2015 = pd.read_csv('mar15.csv.gz')\n",
    "may_2015 = pd.read_csv('may15.csv.gz')\n",
    "june_2015 = pd.read_csv('june15.csv.gz')\n",
    "aug_2015 = pd.read_csv('aug15.csv.gz')\n",
    "sept_2015 = pd.read_csv('sept15.csv.gz')\n",
    "oct_2015 = pd.read_csv('oct15.csv.gz')\n",
    "nov_2015 = pd.read_csv('nov15.csv.gz')\n",
    "dec_2015 = pd.read_csv('dec15.csv.gz')\n",
    "\n",
    "jan_2016 = pd.read_csv('jan16.csv.gz')\n",
    "feb_2016 = pd.read_csv('feb16.csv.gz')\n",
    "april_2016 = pd.read_csv('april16.csv.gz')\n",
    "may_2016 = pd.read_csv('may16.csv.gz')\n",
    "june_2016 = pd.read_csv('june16.csv.gz')\n",
    "july_2016 = pd.read_csv('july16.csv.gz')\n",
    "sept_2016 = pd.read_csv('sept16.csv.gz')\n",
    "oct_2016 = pd.read_csv('oct16.csv.gz')\n",
    "nov_2016 = pd.read_csv('nov16.csv.gz')\n",
    "dec_2016 = pd.read_csv('dec16.csv.gz')"
   ]
  }
 ],
 "metadata": {
  "kernelspec": {
   "display_name": "Python 3",
   "language": "python",
   "name": "python3"
  },
  "language_info": {
   "codemirror_mode": {
    "name": "ipython",
    "version": 3
   },
   "file_extension": ".py",
   "mimetype": "text/x-python",
   "name": "python",
   "nbconvert_exporter": "python",
   "pygments_lexer": "ipython3",
   "version": "3.7.1"
  }
 },
 "nbformat": 4,
 "nbformat_minor": 2
}
